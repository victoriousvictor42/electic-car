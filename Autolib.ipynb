{
  "nbformat": 4,
  "nbformat_minor": 0,
  "metadata": {
    "colab": {
      "name": "Autolib.ipynb",
      "provenance": [],
      "include_colab_link": true
    },
    "kernelspec": {
      "name": "python3",
      "display_name": "Python 3"
    }
  },
  "cells": [
    {
      "cell_type": "markdown",
      "metadata": {
        "id": "view-in-github",
        "colab_type": "text"
      },
      "source": [
        "<a href=\"https://colab.research.google.com/github/victoriousvictor42/electic-car/blob/master/Autolib.ipynb\" target=\"_parent\"><img src=\"https://colab.research.google.com/assets/colab-badge.svg\" alt=\"Open In Colab\"/></a>"
      ]
    },
    {
      "cell_type": "markdown",
      "metadata": {
        "id": "Z7BCURUncRYX",
        "colab_type": "text"
      },
      "source": [
        "\n",
        "This is a hypothesis testing that is being conducted for Autolib electric car-sharing service company.\n",
        "We are investigating a claim about blue cars from the Autolib dataset.\n"
      ]
    },
    {
      "cell_type": "code",
      "metadata": {
        "id": "XQwvTEay4JpF",
        "colab_type": "code",
        "colab": {}
      },
      "source": [
        "# importing libraries that we will be working with\n",
        "import pandas as pd\n",
        "import numpy as np\n",
        "import seaborn as sns\n",
        "import matplotlib.pyplot as plt"
      ],
      "execution_count": 0,
      "outputs": []
    },
    {
      "cell_type": "markdown",
      "metadata": {
        "id": "BNP9V59ueoVH",
        "colab_type": "text"
      },
      "source": [
        "reading the data we have"
      ]
    },
    {
      "cell_type": "code",
      "metadata": {
        "id": "g3T7MwEDecSa",
        "colab_type": "code",
        "colab": {}
      },
      "source": [
        "df = pd.read_csv('http://bit.ly/DSCoreAutolibDataset')\n",
        "df2 = pd.read_excel('columns_explanation (1).xlsx')"
      ],
      "execution_count": 0,
      "outputs": []
    },
    {
      "cell_type": "markdown",
      "metadata": {
        "id": "9qKPWFyfe0uP",
        "colab_type": "text"
      },
      "source": [
        "getiing information about our dataset"
      ]
    },
    {
      "cell_type": "code",
      "metadata": {
        "id": "kXlMFgPZkeGD",
        "colab_type": "code",
        "colab": {
          "base_uri": "https://localhost:8080/",
          "height": 452
        },
        "outputId": "246ab3b6-aea3-48e1-fb46-77ba7075b7fe"
      },
      "source": [
        "df2"
      ],
      "execution_count": 88,
      "outputs": [
        {
          "output_type": "execute_result",
          "data": {
            "text/html": [
              "<div>\n",
              "<style scoped>\n",
              "    .dataframe tbody tr th:only-of-type {\n",
              "        vertical-align: middle;\n",
              "    }\n",
              "\n",
              "    .dataframe tbody tr th {\n",
              "        vertical-align: top;\n",
              "    }\n",
              "\n",
              "    .dataframe thead th {\n",
              "        text-align: right;\n",
              "    }\n",
              "</style>\n",
              "<table border=\"1\" class=\"dataframe\">\n",
              "  <thead>\n",
              "    <tr style=\"text-align: right;\">\n",
              "      <th></th>\n",
              "      <th>Column name</th>\n",
              "      <th>explanation</th>\n",
              "    </tr>\n",
              "  </thead>\n",
              "  <tbody>\n",
              "    <tr>\n",
              "      <th>0</th>\n",
              "      <td>Postal code</td>\n",
              "      <td>postal code of the area (in Paris)</td>\n",
              "    </tr>\n",
              "    <tr>\n",
              "      <th>1</th>\n",
              "      <td>date</td>\n",
              "      <td>date of the row aggregation</td>\n",
              "    </tr>\n",
              "    <tr>\n",
              "      <th>2</th>\n",
              "      <td>n_daily_data_points</td>\n",
              "      <td>number of daily data poinst that were availabl...</td>\n",
              "    </tr>\n",
              "    <tr>\n",
              "      <th>3</th>\n",
              "      <td>dayOfWeek</td>\n",
              "      <td>identifier of weekday (0: Monday -&gt; 6: Sunday)</td>\n",
              "    </tr>\n",
              "    <tr>\n",
              "      <th>4</th>\n",
              "      <td>day_type</td>\n",
              "      <td>weekday or weekend</td>\n",
              "    </tr>\n",
              "    <tr>\n",
              "      <th>5</th>\n",
              "      <td>BlueCars_taken_sum</td>\n",
              "      <td>Number of bluecars taken that date in that area</td>\n",
              "    </tr>\n",
              "    <tr>\n",
              "      <th>6</th>\n",
              "      <td>BlueCars_returned_sum</td>\n",
              "      <td>Number of bluecars returned that date in that ...</td>\n",
              "    </tr>\n",
              "    <tr>\n",
              "      <th>7</th>\n",
              "      <td>Utilib_taken_sum</td>\n",
              "      <td>Number of Utilib taken that date in that area</td>\n",
              "    </tr>\n",
              "    <tr>\n",
              "      <th>8</th>\n",
              "      <td>Utilib_returned_sum</td>\n",
              "      <td>Number of Utilib returned that date in that area</td>\n",
              "    </tr>\n",
              "    <tr>\n",
              "      <th>9</th>\n",
              "      <td>Utilib_14_taken_sum</td>\n",
              "      <td>Number of Utilib 1.4 taken that date in that area</td>\n",
              "    </tr>\n",
              "    <tr>\n",
              "      <th>10</th>\n",
              "      <td>Utilib_14_returned_sum</td>\n",
              "      <td>Number of Utilib 1.4 returned that date in tha...</td>\n",
              "    </tr>\n",
              "    <tr>\n",
              "      <th>11</th>\n",
              "      <td>Slots_freed_sum</td>\n",
              "      <td>Number of recharging slots released that date ...</td>\n",
              "    </tr>\n",
              "    <tr>\n",
              "      <th>12</th>\n",
              "      <td>Slots_taken_sum</td>\n",
              "      <td>Number of rechargign slots taken that date in ...</td>\n",
              "    </tr>\n",
              "  </tbody>\n",
              "</table>\n",
              "</div>"
            ],
            "text/plain": [
              "               Column name                                        explanation\n",
              "0              Postal code                 postal code of the area (in Paris)\n",
              "1                     date                        date of the row aggregation\n",
              "2      n_daily_data_points  number of daily data poinst that were availabl...\n",
              "3                dayOfWeek     identifier of weekday (0: Monday -> 6: Sunday)\n",
              "4                 day_type                                 weekday or weekend\n",
              "5       BlueCars_taken_sum    Number of bluecars taken that date in that area\n",
              "6    BlueCars_returned_sum  Number of bluecars returned that date in that ...\n",
              "7         Utilib_taken_sum      Number of Utilib taken that date in that area\n",
              "8      Utilib_returned_sum   Number of Utilib returned that date in that area\n",
              "9      Utilib_14_taken_sum  Number of Utilib 1.4 taken that date in that area\n",
              "10  Utilib_14_returned_sum  Number of Utilib 1.4 returned that date in tha...\n",
              "11         Slots_freed_sum  Number of recharging slots released that date ...\n",
              "12         Slots_taken_sum  Number of rechargign slots taken that date in ..."
            ]
          },
          "metadata": {
            "tags": []
          },
          "execution_count": 88
        }
      ]
    },
    {
      "cell_type": "code",
      "metadata": {
        "id": "SnMTV3X5ew6b",
        "colab_type": "code",
        "outputId": "6b51a6ad-037a-4dfa-f8da-4c7785e07947",
        "colab": {
          "base_uri": "https://localhost:8080/",
          "height": 323
        }
      },
      "source": [
        "df.info()"
      ],
      "execution_count": 42,
      "outputs": [
        {
          "output_type": "stream",
          "text": [
            "<class 'pandas.core.frame.DataFrame'>\n",
            "RangeIndex: 16085 entries, 0 to 16084\n",
            "Data columns (total 13 columns):\n",
            "Postal code               16085 non-null int64\n",
            "date                      16085 non-null object\n",
            "n_daily_data_points       16085 non-null int64\n",
            "dayOfWeek                 16085 non-null int64\n",
            "day_type                  16085 non-null object\n",
            "BlueCars_taken_sum        16085 non-null int64\n",
            "BlueCars_returned_sum     16085 non-null int64\n",
            "Utilib_taken_sum          16085 non-null int64\n",
            "Utilib_returned_sum       16085 non-null int64\n",
            "Utilib_14_taken_sum       16085 non-null int64\n",
            "Utilib_14_returned_sum    16085 non-null int64\n",
            "Slots_freed_sum           16085 non-null int64\n",
            "Slots_taken_sum           16085 non-null int64\n",
            "dtypes: int64(11), object(2)\n",
            "memory usage: 1.6+ MB\n"
          ],
          "name": "stdout"
        }
      ]
    },
    {
      "cell_type": "code",
      "metadata": {
        "id": "Pu4VLjBFe9ja",
        "colab_type": "code",
        "outputId": "3f990a4f-78e9-4733-ef6c-c93fc1ae0df2",
        "colab": {
          "base_uri": "https://localhost:8080/",
          "height": 241
        }
      },
      "source": [
        "df.head()"
      ],
      "execution_count": 43,
      "outputs": [
        {
          "output_type": "execute_result",
          "data": {
            "text/html": [
              "<div>\n",
              "<style scoped>\n",
              "    .dataframe tbody tr th:only-of-type {\n",
              "        vertical-align: middle;\n",
              "    }\n",
              "\n",
              "    .dataframe tbody tr th {\n",
              "        vertical-align: top;\n",
              "    }\n",
              "\n",
              "    .dataframe thead th {\n",
              "        text-align: right;\n",
              "    }\n",
              "</style>\n",
              "<table border=\"1\" class=\"dataframe\">\n",
              "  <thead>\n",
              "    <tr style=\"text-align: right;\">\n",
              "      <th></th>\n",
              "      <th>Postal code</th>\n",
              "      <th>date</th>\n",
              "      <th>n_daily_data_points</th>\n",
              "      <th>dayOfWeek</th>\n",
              "      <th>day_type</th>\n",
              "      <th>BlueCars_taken_sum</th>\n",
              "      <th>BlueCars_returned_sum</th>\n",
              "      <th>Utilib_taken_sum</th>\n",
              "      <th>Utilib_returned_sum</th>\n",
              "      <th>Utilib_14_taken_sum</th>\n",
              "      <th>Utilib_14_returned_sum</th>\n",
              "      <th>Slots_freed_sum</th>\n",
              "      <th>Slots_taken_sum</th>\n",
              "    </tr>\n",
              "  </thead>\n",
              "  <tbody>\n",
              "    <tr>\n",
              "      <th>0</th>\n",
              "      <td>75001</td>\n",
              "      <td>1/1/2018</td>\n",
              "      <td>1440</td>\n",
              "      <td>0</td>\n",
              "      <td>weekday</td>\n",
              "      <td>110</td>\n",
              "      <td>103</td>\n",
              "      <td>3</td>\n",
              "      <td>2</td>\n",
              "      <td>10</td>\n",
              "      <td>9</td>\n",
              "      <td>22</td>\n",
              "      <td>20</td>\n",
              "    </tr>\n",
              "    <tr>\n",
              "      <th>1</th>\n",
              "      <td>75001</td>\n",
              "      <td>1/2/2018</td>\n",
              "      <td>1438</td>\n",
              "      <td>1</td>\n",
              "      <td>weekday</td>\n",
              "      <td>98</td>\n",
              "      <td>94</td>\n",
              "      <td>1</td>\n",
              "      <td>1</td>\n",
              "      <td>8</td>\n",
              "      <td>8</td>\n",
              "      <td>23</td>\n",
              "      <td>22</td>\n",
              "    </tr>\n",
              "    <tr>\n",
              "      <th>2</th>\n",
              "      <td>75001</td>\n",
              "      <td>1/3/2018</td>\n",
              "      <td>1439</td>\n",
              "      <td>2</td>\n",
              "      <td>weekday</td>\n",
              "      <td>138</td>\n",
              "      <td>139</td>\n",
              "      <td>0</td>\n",
              "      <td>0</td>\n",
              "      <td>2</td>\n",
              "      <td>2</td>\n",
              "      <td>27</td>\n",
              "      <td>27</td>\n",
              "    </tr>\n",
              "    <tr>\n",
              "      <th>3</th>\n",
              "      <td>75001</td>\n",
              "      <td>1/4/2018</td>\n",
              "      <td>1320</td>\n",
              "      <td>3</td>\n",
              "      <td>weekday</td>\n",
              "      <td>104</td>\n",
              "      <td>104</td>\n",
              "      <td>2</td>\n",
              "      <td>2</td>\n",
              "      <td>9</td>\n",
              "      <td>8</td>\n",
              "      <td>25</td>\n",
              "      <td>21</td>\n",
              "    </tr>\n",
              "    <tr>\n",
              "      <th>4</th>\n",
              "      <td>75001</td>\n",
              "      <td>1/5/2018</td>\n",
              "      <td>1440</td>\n",
              "      <td>4</td>\n",
              "      <td>weekday</td>\n",
              "      <td>114</td>\n",
              "      <td>117</td>\n",
              "      <td>3</td>\n",
              "      <td>3</td>\n",
              "      <td>6</td>\n",
              "      <td>6</td>\n",
              "      <td>18</td>\n",
              "      <td>20</td>\n",
              "    </tr>\n",
              "  </tbody>\n",
              "</table>\n",
              "</div>"
            ],
            "text/plain": [
              "   Postal code      date  ...  Slots_freed_sum  Slots_taken_sum\n",
              "0        75001  1/1/2018  ...               22               20\n",
              "1        75001  1/2/2018  ...               23               22\n",
              "2        75001  1/3/2018  ...               27               27\n",
              "3        75001  1/4/2018  ...               25               21\n",
              "4        75001  1/5/2018  ...               18               20\n",
              "\n",
              "[5 rows x 13 columns]"
            ]
          },
          "metadata": {
            "tags": []
          },
          "execution_count": 43
        }
      ]
    },
    {
      "cell_type": "code",
      "metadata": {
        "id": "sNexWEftfAwQ",
        "colab_type": "code",
        "outputId": "d2a00201-8206-44f3-a489-1d8dd57d1524",
        "colab": {
          "base_uri": "https://localhost:8080/",
          "height": 241
        }
      },
      "source": [
        "df.tail()"
      ],
      "execution_count": 44,
      "outputs": [
        {
          "output_type": "execute_result",
          "data": {
            "text/html": [
              "<div>\n",
              "<style scoped>\n",
              "    .dataframe tbody tr th:only-of-type {\n",
              "        vertical-align: middle;\n",
              "    }\n",
              "\n",
              "    .dataframe tbody tr th {\n",
              "        vertical-align: top;\n",
              "    }\n",
              "\n",
              "    .dataframe thead th {\n",
              "        text-align: right;\n",
              "    }\n",
              "</style>\n",
              "<table border=\"1\" class=\"dataframe\">\n",
              "  <thead>\n",
              "    <tr style=\"text-align: right;\">\n",
              "      <th></th>\n",
              "      <th>Postal code</th>\n",
              "      <th>date</th>\n",
              "      <th>n_daily_data_points</th>\n",
              "      <th>dayOfWeek</th>\n",
              "      <th>day_type</th>\n",
              "      <th>BlueCars_taken_sum</th>\n",
              "      <th>BlueCars_returned_sum</th>\n",
              "      <th>Utilib_taken_sum</th>\n",
              "      <th>Utilib_returned_sum</th>\n",
              "      <th>Utilib_14_taken_sum</th>\n",
              "      <th>Utilib_14_returned_sum</th>\n",
              "      <th>Slots_freed_sum</th>\n",
              "      <th>Slots_taken_sum</th>\n",
              "    </tr>\n",
              "  </thead>\n",
              "  <tbody>\n",
              "    <tr>\n",
              "      <th>16080</th>\n",
              "      <td>95880</td>\n",
              "      <td>6/15/2018</td>\n",
              "      <td>1440</td>\n",
              "      <td>4</td>\n",
              "      <td>weekday</td>\n",
              "      <td>15</td>\n",
              "      <td>10</td>\n",
              "      <td>0</td>\n",
              "      <td>0</td>\n",
              "      <td>2</td>\n",
              "      <td>3</td>\n",
              "      <td>0</td>\n",
              "      <td>0</td>\n",
              "    </tr>\n",
              "    <tr>\n",
              "      <th>16081</th>\n",
              "      <td>95880</td>\n",
              "      <td>6/16/2018</td>\n",
              "      <td>1440</td>\n",
              "      <td>5</td>\n",
              "      <td>weekend</td>\n",
              "      <td>19</td>\n",
              "      <td>19</td>\n",
              "      <td>0</td>\n",
              "      <td>0</td>\n",
              "      <td>2</td>\n",
              "      <td>1</td>\n",
              "      <td>0</td>\n",
              "      <td>0</td>\n",
              "    </tr>\n",
              "    <tr>\n",
              "      <th>16082</th>\n",
              "      <td>95880</td>\n",
              "      <td>6/17/2018</td>\n",
              "      <td>1440</td>\n",
              "      <td>6</td>\n",
              "      <td>weekend</td>\n",
              "      <td>33</td>\n",
              "      <td>35</td>\n",
              "      <td>1</td>\n",
              "      <td>1</td>\n",
              "      <td>0</td>\n",
              "      <td>0</td>\n",
              "      <td>0</td>\n",
              "      <td>0</td>\n",
              "    </tr>\n",
              "    <tr>\n",
              "      <th>16083</th>\n",
              "      <td>95880</td>\n",
              "      <td>6/18/2018</td>\n",
              "      <td>1440</td>\n",
              "      <td>0</td>\n",
              "      <td>weekday</td>\n",
              "      <td>11</td>\n",
              "      <td>14</td>\n",
              "      <td>3</td>\n",
              "      <td>5</td>\n",
              "      <td>2</td>\n",
              "      <td>2</td>\n",
              "      <td>0</td>\n",
              "      <td>0</td>\n",
              "    </tr>\n",
              "    <tr>\n",
              "      <th>16084</th>\n",
              "      <td>95880</td>\n",
              "      <td>6/19/2018</td>\n",
              "      <td>1370</td>\n",
              "      <td>1</td>\n",
              "      <td>weekday</td>\n",
              "      <td>2</td>\n",
              "      <td>2</td>\n",
              "      <td>2</td>\n",
              "      <td>1</td>\n",
              "      <td>0</td>\n",
              "      <td>0</td>\n",
              "      <td>0</td>\n",
              "      <td>0</td>\n",
              "    </tr>\n",
              "  </tbody>\n",
              "</table>\n",
              "</div>"
            ],
            "text/plain": [
              "       Postal code       date  ...  Slots_freed_sum  Slots_taken_sum\n",
              "16080        95880  6/15/2018  ...                0                0\n",
              "16081        95880  6/16/2018  ...                0                0\n",
              "16082        95880  6/17/2018  ...                0                0\n",
              "16083        95880  6/18/2018  ...                0                0\n",
              "16084        95880  6/19/2018  ...                0                0\n",
              "\n",
              "[5 rows x 13 columns]"
            ]
          },
          "metadata": {
            "tags": []
          },
          "execution_count": 44
        }
      ]
    },
    {
      "cell_type": "code",
      "metadata": {
        "id": "uzkgXFP3ifpk",
        "colab_type": "code",
        "outputId": "2ccf7888-30ae-4c65-cd37-9b8bcec861f4",
        "colab": {
          "base_uri": "https://localhost:8080/",
          "height": 34
        }
      },
      "source": [
        "df.shape"
      ],
      "execution_count": 45,
      "outputs": [
        {
          "output_type": "execute_result",
          "data": {
            "text/plain": [
              "(16085, 13)"
            ]
          },
          "metadata": {
            "tags": []
          },
          "execution_count": 45
        }
      ]
    },
    {
      "cell_type": "code",
      "metadata": {
        "id": "9rAEJdTu_qUf",
        "colab_type": "code",
        "outputId": "8819321a-81e9-463d-b14b-a51afc30f706",
        "colab": {
          "base_uri": "https://localhost:8080/",
          "height": 122
        }
      },
      "source": [
        "# standardizing the columns names to\n",
        "df.columns = df.columns.str.strip().str.lower().str.replace(' ', '_').str.replace('(', '').str.replace(')', '')\n",
        "df.columns"
      ],
      "execution_count": 46,
      "outputs": [
        {
          "output_type": "execute_result",
          "data": {
            "text/plain": [
              "Index(['postal_code', 'date', 'n_daily_data_points', 'dayofweek', 'day_type',\n",
              "       'bluecars_taken_sum', 'bluecars_returned_sum', 'utilib_taken_sum',\n",
              "       'utilib_returned_sum', 'utilib_14_taken_sum', 'utilib_14_returned_sum',\n",
              "       'slots_freed_sum', 'slots_taken_sum'],\n",
              "      dtype='object')"
            ]
          },
          "metadata": {
            "tags": []
          },
          "execution_count": 46
        }
      ]
    },
    {
      "cell_type": "code",
      "metadata": {
        "id": "KujZjaYJNoUH",
        "colab_type": "code",
        "colab": {}
      },
      "source": [
        ""
      ],
      "execution_count": 0,
      "outputs": []
    },
    {
      "cell_type": "markdown",
      "metadata": {
        "id": "PtM-w9UE_5qp",
        "colab_type": "text"
      },
      "source": [
        "Sampling the data set using systematic random sampling\n"
      ]
    },
    {
      "cell_type": "code",
      "metadata": {
        "id": "PIztIE0CKE3U",
        "colab_type": "code",
        "outputId": "758cf653-5b67-427e-8c02-83f89cf03380",
        "colab": {
          "base_uri": "https://localhost:8080/",
          "height": 439
        }
      },
      "source": [
        "sample = df.sample(n=1500)\n",
        "sample"
      ],
      "execution_count": 47,
      "outputs": [
        {
          "output_type": "execute_result",
          "data": {
            "text/html": [
              "<div>\n",
              "<style scoped>\n",
              "    .dataframe tbody tr th:only-of-type {\n",
              "        vertical-align: middle;\n",
              "    }\n",
              "\n",
              "    .dataframe tbody tr th {\n",
              "        vertical-align: top;\n",
              "    }\n",
              "\n",
              "    .dataframe thead th {\n",
              "        text-align: right;\n",
              "    }\n",
              "</style>\n",
              "<table border=\"1\" class=\"dataframe\">\n",
              "  <thead>\n",
              "    <tr style=\"text-align: right;\">\n",
              "      <th></th>\n",
              "      <th>postal_code</th>\n",
              "      <th>date</th>\n",
              "      <th>n_daily_data_points</th>\n",
              "      <th>dayofweek</th>\n",
              "      <th>day_type</th>\n",
              "      <th>bluecars_taken_sum</th>\n",
              "      <th>bluecars_returned_sum</th>\n",
              "      <th>utilib_taken_sum</th>\n",
              "      <th>utilib_returned_sum</th>\n",
              "      <th>utilib_14_taken_sum</th>\n",
              "      <th>utilib_14_returned_sum</th>\n",
              "      <th>slots_freed_sum</th>\n",
              "      <th>slots_taken_sum</th>\n",
              "    </tr>\n",
              "  </thead>\n",
              "  <tbody>\n",
              "    <tr>\n",
              "      <th>11596</th>\n",
              "      <td>93350</td>\n",
              "      <td>4/19/2018</td>\n",
              "      <td>1203</td>\n",
              "      <td>3</td>\n",
              "      <td>weekday</td>\n",
              "      <td>18</td>\n",
              "      <td>22</td>\n",
              "      <td>1</td>\n",
              "      <td>1</td>\n",
              "      <td>0</td>\n",
              "      <td>0</td>\n",
              "      <td>0</td>\n",
              "      <td>0</td>\n",
              "    </tr>\n",
              "    <tr>\n",
              "      <th>5107</th>\n",
              "      <td>92130</td>\n",
              "      <td>5/2/2018</td>\n",
              "      <td>1440</td>\n",
              "      <td>2</td>\n",
              "      <td>weekday</td>\n",
              "      <td>288</td>\n",
              "      <td>277</td>\n",
              "      <td>13</td>\n",
              "      <td>13</td>\n",
              "      <td>15</td>\n",
              "      <td>12</td>\n",
              "      <td>5</td>\n",
              "      <td>5</td>\n",
              "    </tr>\n",
              "    <tr>\n",
              "      <th>2001</th>\n",
              "      <td>75013</td>\n",
              "      <td>5/24/2018</td>\n",
              "      <td>1436</td>\n",
              "      <td>3</td>\n",
              "      <td>weekday</td>\n",
              "      <td>511</td>\n",
              "      <td>496</td>\n",
              "      <td>20</td>\n",
              "      <td>19</td>\n",
              "      <td>39</td>\n",
              "      <td>39</td>\n",
              "      <td>176</td>\n",
              "      <td>170</td>\n",
              "    </tr>\n",
              "    <tr>\n",
              "      <th>10368</th>\n",
              "      <td>93130</td>\n",
              "      <td>4/3/2018</td>\n",
              "      <td>1440</td>\n",
              "      <td>1</td>\n",
              "      <td>weekday</td>\n",
              "      <td>39</td>\n",
              "      <td>38</td>\n",
              "      <td>0</td>\n",
              "      <td>0</td>\n",
              "      <td>0</td>\n",
              "      <td>2</td>\n",
              "      <td>0</td>\n",
              "      <td>0</td>\n",
              "    </tr>\n",
              "    <tr>\n",
              "      <th>8286</th>\n",
              "      <td>92360</td>\n",
              "      <td>1/31/2018</td>\n",
              "      <td>1440</td>\n",
              "      <td>2</td>\n",
              "      <td>weekday</td>\n",
              "      <td>8</td>\n",
              "      <td>9</td>\n",
              "      <td>1</td>\n",
              "      <td>1</td>\n",
              "      <td>2</td>\n",
              "      <td>2</td>\n",
              "      <td>0</td>\n",
              "      <td>0</td>\n",
              "    </tr>\n",
              "    <tr>\n",
              "      <th>...</th>\n",
              "      <td>...</td>\n",
              "      <td>...</td>\n",
              "      <td>...</td>\n",
              "      <td>...</td>\n",
              "      <td>...</td>\n",
              "      <td>...</td>\n",
              "      <td>...</td>\n",
              "      <td>...</td>\n",
              "      <td>...</td>\n",
              "      <td>...</td>\n",
              "      <td>...</td>\n",
              "      <td>...</td>\n",
              "      <td>...</td>\n",
              "    </tr>\n",
              "    <tr>\n",
              "      <th>9896</th>\n",
              "      <td>92800</td>\n",
              "      <td>3/30/2018</td>\n",
              "      <td>1434</td>\n",
              "      <td>4</td>\n",
              "      <td>weekday</td>\n",
              "      <td>92</td>\n",
              "      <td>83</td>\n",
              "      <td>5</td>\n",
              "      <td>4</td>\n",
              "      <td>9</td>\n",
              "      <td>10</td>\n",
              "      <td>13</td>\n",
              "      <td>11</td>\n",
              "    </tr>\n",
              "    <tr>\n",
              "      <th>4619</th>\n",
              "      <td>92100</td>\n",
              "      <td>4/11/2018</td>\n",
              "      <td>1439</td>\n",
              "      <td>2</td>\n",
              "      <td>weekday</td>\n",
              "      <td>359</td>\n",
              "      <td>369</td>\n",
              "      <td>4</td>\n",
              "      <td>5</td>\n",
              "      <td>15</td>\n",
              "      <td>13</td>\n",
              "      <td>10</td>\n",
              "      <td>11</td>\n",
              "    </tr>\n",
              "    <tr>\n",
              "      <th>10018</th>\n",
              "      <td>93100</td>\n",
              "      <td>2/21/2018</td>\n",
              "      <td>1440</td>\n",
              "      <td>2</td>\n",
              "      <td>weekday</td>\n",
              "      <td>101</td>\n",
              "      <td>104</td>\n",
              "      <td>9</td>\n",
              "      <td>6</td>\n",
              "      <td>2</td>\n",
              "      <td>2</td>\n",
              "      <td>3</td>\n",
              "      <td>3</td>\n",
              "    </tr>\n",
              "    <tr>\n",
              "      <th>12154</th>\n",
              "      <td>93400</td>\n",
              "      <td>5/2/2018</td>\n",
              "      <td>1440</td>\n",
              "      <td>2</td>\n",
              "      <td>weekday</td>\n",
              "      <td>126</td>\n",
              "      <td>111</td>\n",
              "      <td>2</td>\n",
              "      <td>2</td>\n",
              "      <td>7</td>\n",
              "      <td>5</td>\n",
              "      <td>0</td>\n",
              "      <td>0</td>\n",
              "    </tr>\n",
              "    <tr>\n",
              "      <th>8120</th>\n",
              "      <td>92350</td>\n",
              "      <td>1/21/2018</td>\n",
              "      <td>1440</td>\n",
              "      <td>6</td>\n",
              "      <td>weekend</td>\n",
              "      <td>26</td>\n",
              "      <td>23</td>\n",
              "      <td>0</td>\n",
              "      <td>1</td>\n",
              "      <td>3</td>\n",
              "      <td>2</td>\n",
              "      <td>0</td>\n",
              "      <td>0</td>\n",
              "    </tr>\n",
              "  </tbody>\n",
              "</table>\n",
              "<p>1500 rows × 13 columns</p>\n",
              "</div>"
            ],
            "text/plain": [
              "       postal_code       date  ...  slots_freed_sum  slots_taken_sum\n",
              "11596        93350  4/19/2018  ...                0                0\n",
              "5107         92130   5/2/2018  ...                5                5\n",
              "2001         75013  5/24/2018  ...              176              170\n",
              "10368        93130   4/3/2018  ...                0                0\n",
              "8286         92360  1/31/2018  ...                0                0\n",
              "...            ...        ...  ...              ...              ...\n",
              "9896         92800  3/30/2018  ...               13               11\n",
              "4619         92100  4/11/2018  ...               10               11\n",
              "10018        93100  2/21/2018  ...                3                3\n",
              "12154        93400   5/2/2018  ...                0                0\n",
              "8120         92350  1/21/2018  ...                0                0\n",
              "\n",
              "[1500 rows x 13 columns]"
            ]
          },
          "metadata": {
            "tags": []
          },
          "execution_count": 47
        }
      ]
    },
    {
      "cell_type": "markdown",
      "metadata": {
        "id": "NYiwKv4JfK4Y",
        "colab_type": "text"
      },
      "source": [
        "checking for anomalies in the sample "
      ]
    },
    {
      "cell_type": "code",
      "metadata": {
        "id": "4vMishkFfEbw",
        "colab_type": "code",
        "outputId": "2ddb4f4f-4cc8-4f4a-fcb2-a6f017664a8b",
        "colab": {
          "base_uri": "https://localhost:8080/",
          "height": 34
        }
      },
      "source": [
        "# checking for missing values\n",
        "sample.isnull().any().any()"
      ],
      "execution_count": 48,
      "outputs": [
        {
          "output_type": "execute_result",
          "data": {
            "text/plain": [
              "False"
            ]
          },
          "metadata": {
            "tags": []
          },
          "execution_count": 48
        }
      ]
    },
    {
      "cell_type": "markdown",
      "metadata": {
        "id": "xcPgXKP5kyT_",
        "colab_type": "text"
      },
      "source": [
        "\n",
        "\n",
        "> there are no existing missing values\n",
        "\n"
      ]
    },
    {
      "cell_type": "code",
      "metadata": {
        "id": "Qjc8_6PCk_eQ",
        "colab_type": "code",
        "outputId": "9760c945-2332-4dcd-c9e5-40436b07627c",
        "colab": {
          "base_uri": "https://localhost:8080/",
          "height": 34
        }
      },
      "source": [
        "# checking for duplicates\n",
        "sample.duplicated().any()"
      ],
      "execution_count": 49,
      "outputs": [
        {
          "output_type": "execute_result",
          "data": {
            "text/plain": [
              "False"
            ]
          },
          "metadata": {
            "tags": []
          },
          "execution_count": 49
        }
      ]
    },
    {
      "cell_type": "markdown",
      "metadata": {
        "id": "MhVcBukilJmZ",
        "colab_type": "text"
      },
      "source": [
        "\n",
        "\n",
        "> there ain't any duplicates in the dataset\n",
        "\n"
      ]
    },
    {
      "cell_type": "markdown",
      "metadata": {
        "id": "LEXwKhXt8eGp",
        "colab_type": "text"
      },
      "source": [
        ""
      ]
    },
    {
      "cell_type": "code",
      "metadata": {
        "id": "Egys6VDDsqdH",
        "colab_type": "code",
        "outputId": "b3cba487-e7dd-48ec-d67c-d0f80349ad4d",
        "colab": {
          "base_uri": "https://localhost:8080/",
          "height": 280
        }
      },
      "source": [
        "#checking for outliers\n",
        "sns.boxplot(sample['postal_code'])\n",
        "plt.show()"
      ],
      "execution_count": 50,
      "outputs": [
        {
          "output_type": "display_data",
          "data": {
            "image/png": "[encoded data removed]",
            "text/plain": [
              "<Figure size 432x288 with 1 Axes>"
            ]
          },
          "metadata": {
            "tags": []
          }
        }
      ]
    },
    {
      "cell_type": "code",
      "metadata": {
        "id": "8E4b5CsK7_Yr",
        "colab_type": "code",
        "outputId": "53097781-f25b-4e3b-a584-9bf6bad44f2a",
        "colab": {
          "base_uri": "https://localhost:8080/",
          "height": 280
        }
      },
      "source": [
        "sns.boxplot(sample['n_daily_data_points'])\n",
        "plt.show()"
      ],
      "execution_count": 51,
      "outputs": [
        {
          "output_type": "display_data",
          "data": {
            "image/png": "[encoded data removed]",
            "text/plain": [
              "<Figure size 432x288 with 1 Axes>"
            ]
          },
          "metadata": {
            "tags": []
          }
        }
      ]
    },
    {
      "cell_type": "code",
      "metadata": {
        "id": "qMA0X0wB8ykB",
        "colab_type": "code",
        "outputId": "ea13eefb-0963-4efb-fdf3-15c77e5701fa",
        "colab": {
          "base_uri": "https://localhost:8080/",
          "height": 279
        }
      },
      "source": [
        "sns.boxplot(sample['dayofweek'])\n",
        "plt.show()"
      ],
      "execution_count": 52,
      "outputs": [
        {
          "output_type": "display_data",
          "data": {
            "image/png": "[encoded data removed]",
            "text/plain": [
              "<Figure size 432x288 with 1 Axes>"
            ]
          },
          "metadata": {
            "tags": []
          }
        }
      ]
    },
    {
      "cell_type": "code",
      "metadata": {
        "id": "OuxXX9Q780di",
        "colab_type": "code",
        "outputId": "3c39bccd-bd16-4f18-9948-511d24ac2a2c",
        "colab": {
          "base_uri": "https://localhost:8080/",
          "height": 280
        }
      },
      "source": [
        "sns.boxplot(sample['bluecars_taken_sum'])\n",
        "plt.show()"
      ],
      "execution_count": 53,
      "outputs": [
        {
          "output_type": "display_data",
          "data": {
            "image/png": "[encoded data removed]",
            "text/plain": [
              "<Figure size 432x288 with 1 Axes>"
            ]
          },
          "metadata": {
            "tags": []
          }
        }
      ]
    },
    {
      "cell_type": "code",
      "metadata": {
        "id": "dMldLqnD8zuA",
        "colab_type": "code",
        "outputId": "54c8c5a6-84e2-4a16-e9c6-9845cdaedd8c",
        "colab": {
          "base_uri": "https://localhost:8080/",
          "height": 280
        }
      },
      "source": [
        "sns.boxplot(sample['bluecars_returned_sum'])\n",
        "plt.show()"
      ],
      "execution_count": 54,
      "outputs": [
        {
          "output_type": "display_data",
          "data": {
            "image/png": "[encoded data removed]",
            "text/plain": [
              "<Figure size 432x288 with 1 Axes>"
            ]
          },
          "metadata": {
            "tags": []
          }
        }
      ]
    },
    {
      "cell_type": "code",
      "metadata": {
        "id": "BE2iMQWe81M8",
        "colab_type": "code",
        "outputId": "0112aeb8-2940-45bc-f32e-55ee3c726c8f",
        "colab": {
          "base_uri": "https://localhost:8080/",
          "height": 280
        }
      },
      "source": [
        "sns.boxplot(sample['utilib_taken_sum'])\n",
        "plt.show()"
      ],
      "execution_count": 55,
      "outputs": [
        {
          "output_type": "display_data",
          "data": {
            "image/png": "[encoded data removed]",
            "text/plain": [
              "<Figure size 432x288 with 1 Axes>"
            ]
          },
          "metadata": {
            "tags": []
          }
        }
      ]
    },
    {
      "cell_type": "code",
      "metadata": {
        "id": "lvR7RRej82Ak",
        "colab_type": "code",
        "outputId": "131e8697-3167-4e91-f8c5-e5643abbe346",
        "colab": {
          "base_uri": "https://localhost:8080/",
          "height": 280
        }
      },
      "source": [
        "sns.boxplot(sample['utilib_returned_sum'])\n",
        "plt.show()"
      ],
      "execution_count": 56,
      "outputs": [
        {
          "output_type": "display_data",
          "data": {
            "image/png": "[encoded data removed]",
            "text/plain": [
              "<Figure size 432x288 with 1 Axes>"
            ]
          },
          "metadata": {
            "tags": []
          }
        }
      ]
    },
    {
      "cell_type": "code",
      "metadata": {
        "id": "J9TLGY1g84j-",
        "colab_type": "code",
        "outputId": "17864286-5987-4d70-cb79-534a8d5c7964",
        "colab": {
          "base_uri": "https://localhost:8080/",
          "height": 280
        }
      },
      "source": [
        "sns.boxplot(sample['utilib_14_taken_sum'])\n",
        "plt.show()"
      ],
      "execution_count": 57,
      "outputs": [
        {
          "output_type": "display_data",
          "data": {
            "image/png": "[encoded data removed]",
            "text/plain": [
              "<Figure size 432x288 with 1 Axes>"
            ]
          },
          "metadata": {
            "tags": []
          }
        }
      ]
    },
    {
      "cell_type": "code",
      "metadata": {
        "id": "hKZH4O4mWs6O",
        "colab_type": "code",
        "outputId": "2e793694-0d28-4e69-e27b-b150bf77158a",
        "colab": {
          "base_uri": "https://localhost:8080/",
          "height": 280
        }
      },
      "source": [
        "sns.boxplot(sample['utilib_14_returned_sum'])\n",
        "plt.show()"
      ],
      "execution_count": 58,
      "outputs": [
        {
          "output_type": "display_data",
          "data": {
            "image/png": "[encoded data removed]",
            "text/plain": [
              "<Figure size 432x288 with 1 Axes>"
            ]
          },
          "metadata": {
            "tags": []
          }
        }
      ]
    },
    {
      "cell_type": "code",
      "metadata": {
        "id": "I6N18ZDVXHIT",
        "colab_type": "code",
        "outputId": "71ec7f2a-d0cc-4119-a6f0-cda0812387ef",
        "colab": {
          "base_uri": "https://localhost:8080/",
          "height": 280
        }
      },
      "source": [
        "sns.boxplot(sample['slots_freed_sum'])\n",
        "plt.show()"
      ],
      "execution_count": 59,
      "outputs": [
        {
          "output_type": "display_data",
          "data": {
            "image/png": "[encoded data removed]",
            "text/plain": [
              "<Figure size 432x288 with 1 Axes>"
            ]
          },
          "metadata": {
            "tags": []
          }
        }
      ]
    },
    {
      "cell_type": "code",
      "metadata": {
        "id": "SOtZamtaXPMi",
        "colab_type": "code",
        "outputId": "faa8c4b2-6800-432b-a11b-a4c71e6ab91d",
        "colab": {
          "base_uri": "https://localhost:8080/",
          "height": 280
        }
      },
      "source": [
        "sns.boxplot(sample['slots_taken_sum'])\n",
        "plt.show()"
      ],
      "execution_count": 60,
      "outputs": [
        {
          "output_type": "display_data",
          "data": {
            "image/png": "[encoded data removed]",
            "text/plain": [
              "<Figure size 432x288 with 1 Axes>"
            ]
          },
          "metadata": {
            "tags": []
          }
        }
      ]
    },
    {
      "cell_type": "code",
      "metadata": {
        "id": "VQ6JRrND94ec",
        "colab_type": "code",
        "colab": {}
      },
      "source": [
        "# labeling data on the categorical data so that we can check for outliers\n",
        "from sklearn.preprocessing import LabelEncoder\n",
        "\n",
        "label = LabelEncoder()\n",
        "sample['date'] = label.fit_transform(sample['date'])\n",
        "sample['day_type'] = label.fit_transform(sample['day_type'])"
      ],
      "execution_count": 0,
      "outputs": []
    },
    {
      "cell_type": "code",
      "metadata": {
        "id": "X6yyzwrOXugp",
        "colab_type": "code",
        "outputId": "bf177e35-1803-4922-bfdb-4896bb12fbe5",
        "colab": {
          "base_uri": "https://localhost:8080/",
          "height": 476
        }
      },
      "source": [
        "# checking whether labelling has been applied to our dataset\n",
        "print(df.date.unique())\n",
        "print(df.day_type.unique())"
      ],
      "execution_count": 62,
      "outputs": [
        {
          "output_type": "stream",
          "text": [
            "['1/1/2018' '1/2/2018' '1/3/2018' '1/4/2018' '1/5/2018' '1/6/2018'\n",
            " '1/7/2018' '1/8/2018' '1/9/2018' '1/10/2018' '1/11/2018' '1/12/2018'\n",
            " '1/13/2018' '1/14/2018' '1/15/2018' '1/16/2018' '1/17/2018' '1/18/2018'\n",
            " '1/19/2018' '1/20/2018' '1/21/2018' '1/22/2018' '1/23/2018' '1/24/2018'\n",
            " '1/25/2018' '1/26/2018' '1/27/2018' '1/28/2018' '1/29/2018' '1/30/2018'\n",
            " '1/31/2018' '2/1/2018' '2/2/2018' '2/3/2018' '2/4/2018' '2/5/2018'\n",
            " '2/6/2018' '2/7/2018' '2/8/2018' '2/9/2018' '2/10/2018' '2/11/2018'\n",
            " '2/12/2018' '2/13/2018' '2/14/2018' '2/15/2018' '2/16/2018' '2/17/2018'\n",
            " '2/18/2018' '2/19/2018' '2/20/2018' '2/21/2018' '2/22/2018' '2/23/2018'\n",
            " '2/24/2018' '2/28/2018' '3/1/2018' '3/2/2018' '3/3/2018' '3/4/2018'\n",
            " '3/5/2018' '3/6/2018' '3/7/2018' '3/8/2018' '3/9/2018' '3/10/2018'\n",
            " '3/11/2018' '3/12/2018' '3/13/2018' '3/14/2018' '3/15/2018' '3/16/2018'\n",
            " '3/17/2018' '3/18/2018' '3/19/2018' '3/20/2018' '3/21/2018' '3/22/2018'\n",
            " '3/23/2018' '3/24/2018' '3/25/2018' '3/26/2018' '3/27/2018' '3/28/2018'\n",
            " '3/29/2018' '3/30/2018' '3/31/2018' '4/1/2018' '4/2/2018' '4/3/2018'\n",
            " '4/4/2018' '4/5/2018' '4/6/2018' '4/7/2018' '4/8/2018' '4/9/2018'\n",
            " '4/10/2018' '4/11/2018' '4/12/2018' '4/13/2018' '4/14/2018' '4/15/2018'\n",
            " '4/16/2018' '4/17/2018' '4/18/2018' '4/19/2018' '4/20/2018' '4/21/2018'\n",
            " '4/22/2018' '4/23/2018' '4/24/2018' '4/25/2018' '4/26/2018' '4/27/2018'\n",
            " '4/28/2018' '4/29/2018' '4/30/2018' '5/1/2018' '5/2/2018' '5/3/2018'\n",
            " '5/4/2018' '5/5/2018' '5/6/2018' '5/7/2018' '5/8/2018' '5/20/2018'\n",
            " '5/21/2018' '5/22/2018' '5/23/2018' '5/24/2018' '5/25/2018' '5/26/2018'\n",
            " '5/27/2018' '5/28/2018' '5/29/2018' '5/30/2018' '5/31/2018' '6/1/2018'\n",
            " '6/2/2018' '6/3/2018' '6/4/2018' '6/5/2018' '6/6/2018' '6/7/2018'\n",
            " '6/8/2018' '6/9/2018' '6/10/2018' '6/11/2018' '6/12/2018' '6/13/2018'\n",
            " '6/14/2018' '6/15/2018' '6/16/2018' '6/17/2018' '6/18/2018' '6/19/2018']\n",
            "['weekday' 'weekend']\n"
          ],
          "name": "stdout"
        }
      ]
    },
    {
      "cell_type": "code",
      "metadata": {
        "id": "4mxRX3s8VWFR",
        "colab_type": "code",
        "outputId": "143a7c5c-0560-4d2e-928b-28e5e9f8e4ab",
        "colab": {
          "base_uri": "https://localhost:8080/",
          "height": 122
        }
      },
      "source": [
        "sample.columns"
      ],
      "execution_count": 63,
      "outputs": [
        {
          "output_type": "execute_result",
          "data": {
            "text/plain": [
              "Index(['postal_code', 'date', 'n_daily_data_points', 'dayofweek', 'day_type',\n",
              "       'bluecars_taken_sum', 'bluecars_returned_sum', 'utilib_taken_sum',\n",
              "       'utilib_returned_sum', 'utilib_14_taken_sum', 'utilib_14_returned_sum',\n",
              "       'slots_freed_sum', 'slots_taken_sum'],\n",
              "      dtype='object')"
            ]
          },
          "metadata": {
            "tags": []
          },
          "execution_count": 63
        }
      ]
    },
    {
      "cell_type": "code",
      "metadata": {
        "id": "zu2NDK4YXggN",
        "colab_type": "code",
        "outputId": "80ccf8d1-7cb3-40a8-f06b-1cbc002c1c42",
        "colab": {
          "base_uri": "https://localhost:8080/",
          "height": 279
        }
      },
      "source": [
        "sns.boxplot(sample['date'])\n",
        "plt.show()"
      ],
      "execution_count": 64,
      "outputs": [
        {
          "output_type": "display_data",
          "data": {
            "image/png": "[encoded data removed]",
            "text/plain": [
              "<Figure size 432x288 with 1 Axes>"
            ]
          },
          "metadata": {
            "tags": []
          }
        }
      ]
    },
    {
      "cell_type": "code",
      "metadata": {
        "id": "kXCFagMfXgFS",
        "colab_type": "code",
        "outputId": "3920a7c8-b7b0-4577-a09c-0cc135fc92d9",
        "colab": {
          "base_uri": "https://localhost:8080/",
          "height": 280
        }
      },
      "source": [
        "sns.boxplot(sample['day_type'])\n",
        "plt.show()"
      ],
      "execution_count": 65,
      "outputs": [
        {
          "output_type": "display_data",
          "data": {
            "image/png": "[encoded data removed]",
            "text/plain": [
              "<Figure size 432x288 with 1 Axes>"
            ]
          },
          "metadata": {
            "tags": []
          }
        }
      ]
    },
    {
      "cell_type": "markdown",
      "metadata": {
        "id": "VdV-ahoAYZN_",
        "colab_type": "text"
      },
      "source": [
        "\n",
        "\n",
        "> we confrim that there are outliers in the following columns\n",
        "\n",
        "*   postal code\n",
        "*   number of daily data points\n",
        "*   bluecars taken sum\n",
        "*   bluecars returned sum\n",
        "*   utilib taken sum\n",
        "*   utilib returned sum\n",
        "*   utilib 14 taken sum\n",
        "*   utilib 14 returned sum\n",
        "*   slots freed sum\n",
        "*   slots taken item\n",
        "\n",
        "\n",
        "\n",
        "\n",
        "\n",
        "\n",
        "\n",
        "\n",
        "\n",
        "\n",
        "\n",
        "\n"
      ]
    },
    {
      "cell_type": "markdown",
      "metadata": {
        "id": "O9Jf4-LvaSmP",
        "colab_type": "text"
      },
      "source": [
        "**Dealing with anomalies**"
      ]
    },
    {
      "cell_type": "markdown",
      "metadata": {
        "id": "fc7r7Jn-aaBi",
        "colab_type": "text"
      },
      "source": [
        "\n",
        "\n",
        "> removing the outliers in the dataset using z-score\n",
        "\n"
      ]
    },
    {
      "cell_type": "code",
      "metadata": {
        "id": "b4H4b-hxaREC",
        "colab_type": "code",
        "outputId": "c66aec93-cb90-4622-b429-7409bea2ae34",
        "colab": {
          "base_uri": "https://localhost:8080/",
          "height": 136
        }
      },
      "source": [
        "from scipy import stats\n",
        "import numpy as np\n",
        "z = np.abs(stats.zscore(sample))\n",
        "print(z)"
      ],
      "execution_count": 66,
      "outputs": [
        {
          "output_type": "stream",
          "text": [
            "[[0.59328644 0.43867644 6.86646434 ... 0.67816493 0.44082864 0.43961179]\n",
            " [0.43481481 0.90836739 0.27448984 ... 0.2571633  0.3438039  0.34295416]\n",
            " [1.78859413 1.02019857 0.15396741 ... 2.36165183 2.97444193 2.84674762]\n",
            " ...\n",
            " [0.56081274 0.74673406 0.27448984 ... 0.52227689 0.3826138  0.38161721]\n",
            " [0.59978118 0.90836739 0.27448984 ... 0.28844484 0.44082864 0.43961179]\n",
            " [0.46339166 1.44008737 0.27448984 ... 0.52227689 0.44082864 0.43961179]]\n"
          ],
          "name": "stdout"
        }
      ]
    },
    {
      "cell_type": "code",
      "metadata": {
        "id": "dobal41hbABu",
        "colab_type": "code",
        "outputId": "d0411998-faed-4110-9e9d-71d1bd71498c",
        "colab": {
          "base_uri": "https://localhost:8080/",
          "height": 836
        }
      },
      "source": [
        "threshold = 3\n",
        "print(np.where(z > 3))"
      ],
      "execution_count": 67,
      "outputs": [
        {
          "output_type": "stream",
          "text": [
            "(array([   0,    9,   14,   14,   19,   19,   42,   46,   58,  120,  123,\n",
            "        123,  123,  123,  123,  123,  136,  151,  151,  151,  151,  151,\n",
            "        151,  151,  151,  167,  167,  167,  167,  167,  167,  170,  170,\n",
            "        170,  170,  170,  170,  179,  196,  212,  212,  212,  212,  212,\n",
            "        212,  215,  215,  215,  215,  244,  244,  325,  325,  325,  341,\n",
            "        341,  363,  363,  363,  372,  399,  399,  414,  426,  426,  431,\n",
            "        434,  485,  485,  485,  492,  529,  529,  529,  540,  540,  540,\n",
            "        540,  540,  540,  543,  543,  547,  547,  547,  547,  547,  547,\n",
            "        547,  557,  557,  561,  561,  561,  561,  563,  563,  563,  563,\n",
            "        563,  563,  571,  571,  571,  571,  571,  571,  571,  571,  576,\n",
            "        592,  592,  592,  592,  592,  592,  592,  592,  598,  603,  603,\n",
            "        603,  603,  603,  603,  603,  603,  608,  608,  610,  610,  655,\n",
            "        667,  667,  667,  667,  667,  667,  676,  676,  677,  681,  681,\n",
            "        681,  681,  681,  681,  681,  709,  709,  709,  731,  731,  731,\n",
            "        731,  731,  731,  731,  735,  735,  746,  746,  786,  800,  808,\n",
            "        855,  872,  910,  910,  910,  935,  935,  935,  935,  935,  937,\n",
            "        955,  955,  955,  955,  955,  955,  955,  955,  956,  956,  956,\n",
            "        957,  957,  957,  957,  975,  976,  990,  990, 1010, 1013, 1030,\n",
            "       1030, 1030, 1030, 1031, 1031, 1042, 1047, 1047, 1050, 1050, 1052,\n",
            "       1052, 1067, 1067, 1067, 1067, 1089, 1089, 1121, 1123, 1123, 1134,\n",
            "       1136, 1136, 1136, 1136, 1136, 1136, 1136, 1146, 1153, 1174, 1174,\n",
            "       1174, 1174, 1175, 1175, 1225, 1225, 1232, 1276, 1276, 1276, 1276,\n",
            "       1276, 1276, 1298, 1298, 1298, 1298, 1307, 1310, 1310, 1310, 1310,\n",
            "       1310, 1310, 1315, 1315, 1327, 1335, 1335, 1336, 1336, 1344, 1344,\n",
            "       1344, 1344, 1344, 1348, 1354, 1398, 1408, 1416, 1416, 1416, 1416,\n",
            "       1416, 1416, 1416, 1416, 1417, 1432, 1436, 1436, 1456, 1456, 1456,\n",
            "       1456, 1456, 1456, 1456, 1456, 1465, 1467, 1467, 1470, 1470, 1470,\n",
            "       1471, 1471, 1471, 1471, 1471, 1471, 1471, 1471, 1472, 1486, 1486,\n",
            "       1486, 1486, 1486]), array([ 2,  2,  7,  8,  7,  8,  9,  9,  2,  2,  5,  6,  9, 10, 11, 12,  2,\n",
            "        5,  6,  7,  8,  9, 10, 11, 12,  5,  6,  9, 10, 11, 12,  5,  6,  9,\n",
            "       10, 11, 12,  2,  2,  5,  6,  9, 10, 11, 12,  5,  6, 11, 12,  9, 10,\n",
            "        5, 11, 12,  7,  8,  5,  6, 10,  2,  7,  8,  2,  9, 10,  5,  2,  6,\n",
            "       11, 12,  8,  2,  9, 10,  5,  6,  9, 10, 11, 12,  2,  7,  2,  5,  6,\n",
            "        9, 10, 11, 12,  9, 10,  6,  7,  8, 10,  5,  6,  9, 10, 11, 12,  5,\n",
            "        6,  7,  8,  9, 10, 11, 12,  2,  5,  6,  7,  8,  9, 10, 11, 12,  2,\n",
            "        5,  6,  7,  8,  9, 10, 11, 12, 11, 12,  5, 11,  2,  5,  6,  7,  8,\n",
            "        9, 10,  9, 10,  2,  5,  6,  7,  8,  9, 11, 12,  2,  9, 10,  5,  6,\n",
            "        7,  8, 10, 11, 12,  7,  8,  9, 10, 11,  2,  2,  2,  2,  7,  8, 10,\n",
            "        5,  7,  8, 11, 12,  2,  5,  6,  7,  8,  9, 10, 11, 12,  6, 11, 12,\n",
            "        5,  6,  7,  8,  2,  6, 11, 12,  2,  2,  5,  6, 11, 12,  5,  6,  2,\n",
            "        7,  8,  9, 10,  9, 10,  5,  6,  7,  8,  9, 10,  2,  9, 10,  2,  5,\n",
            "        6,  7,  9, 10, 11, 12,  2,  2,  5,  6,  7,  8,  7,  8,  9, 10,  2,\n",
            "        5,  6,  7,  8,  9, 10,  5,  6, 11, 12, 12,  5,  6,  9, 10, 11, 12,\n",
            "        9, 10,  2,  5,  6,  7,  8,  5,  9, 10, 11, 12,  2,  2,  9,  2,  5,\n",
            "        6,  7,  8,  9, 10, 11, 12,  2,  2, 11, 12,  5,  6,  7,  8,  9, 10,\n",
            "       11, 12,  2,  7,  8,  8, 11, 12,  5,  6,  7,  8,  9, 10, 11, 12,  2,\n",
            "        2,  8,  9, 10, 12]))\n"
          ],
          "name": "stdout"
        }
      ]
    },
    {
      "cell_type": "code",
      "metadata": {
        "id": "mrT4O6BtbFB7",
        "colab_type": "code",
        "outputId": "a58afcb0-0ffc-4c77-c365-30c14c257cb5",
        "colab": {
          "base_uri": "https://localhost:8080/",
          "height": 51
        }
      },
      "source": [
        "sample1 = sample[(z < 3).all(axis=1)]\n",
        "print(sample.shape)\n",
        "print(sample1.shape)"
      ],
      "execution_count": 68,
      "outputs": [
        {
          "output_type": "stream",
          "text": [
            "(1500, 13)\n",
            "(1390, 13)\n"
          ],
          "name": "stdout"
        }
      ]
    },
    {
      "cell_type": "markdown",
      "metadata": {
        "id": "0hP4PCNNb4J8",
        "colab_type": "text"
      },
      "source": [
        "\n",
        "\n",
        "> As you can see, the outliers have been removed. The rows have been reduced from 1500 to 1395.\n",
        "\n"
      ]
    },
    {
      "cell_type": "markdown",
      "metadata": {
        "id": "CJi9DzZMeCSj",
        "colab_type": "text"
      },
      "source": [
        "**Explanatory Data Analysis**"
      ]
    },
    {
      "cell_type": "markdown",
      "metadata": {
        "id": "SEDVfQU1eJK5",
        "colab_type": "text"
      },
      "source": [
        "we are conducting an EDA on the dataset so as to get intresting facts about it."
      ]
    },
    {
      "cell_type": "markdown",
      "metadata": {
        "id": "sAB4cMp-eUfY",
        "colab_type": "text"
      },
      "source": [
        "\n",
        "\n",
        "> we are going to start with the blue car variables since thats where the claim is based on. \n",
        "\n"
      ]
    },
    {
      "cell_type": "code",
      "metadata": {
        "id": "DaqV9qx_eIpQ",
        "colab_type": "code",
        "outputId": "abadf3be-8a67-457f-d48f-41cc20d0f0d6",
        "colab": {
          "base_uri": "https://localhost:8080/",
          "height": 295
        }
      },
      "source": [
        "sample1['bluecars_taken_sum'].value_counts().plot.hist()\n",
        "plt.ylabel('frequency')\n",
        "plt.xlabel('blue cars in a day')\n",
        "plt.title('Blue Cars Taken')\n",
        "plt.show()"
      ],
      "execution_count": 77,
      "outputs": [
        {
          "output_type": "display_data",
          "data": {
            "image/png": "[encoded data removed]",
            "text/plain": [
              "<Figure size 432x288 with 1 Axes>"
            ]
          },
          "metadata": {
            "tags": []
          }
        }
      ]
    },
    {
      "cell_type": "markdown",
      "metadata": {
        "id": "ab1SLbYdgv9M",
        "colab_type": "text"
      },
      "source": [
        "\n",
        "\n",
        "> The distribution shows that a lot of blue cars are taken are from the range of one to four in a day\n",
        "\n"
      ]
    },
    {
      "cell_type": "code",
      "metadata": {
        "id": "urZmBbKmbPJS",
        "colab_type": "code",
        "colab": {
          "base_uri": "https://localhost:8080/",
          "height": 295
        },
        "outputId": "1a32daea-040c-4620-9ce1-df75d9b63de7"
      },
      "source": [
        "sample1['bluecars_returned_sum'].value_counts().plot.hist()\n",
        "plt.ylabel('frequency')\n",
        "plt.xlabel('blue cars returned in a day')\n",
        "plt.title('Blue Cars Returned')\n",
        "plt.show()"
      ],
      "execution_count": 76,
      "outputs": [
        {
          "output_type": "display_data",
          "data": {
            "image/png": "[encoded data removed]",
            "text/plain": [
              "<Figure size 432x288 with 1 Axes>"
            ]
          },
          "metadata": {
            "tags": []
          }
        }
      ]
    },
    {
      "cell_type": "markdown",
      "metadata": {
        "id": "h7QTPn1KlX8B",
        "colab_type": "text"
      },
      "source": [
        "\n",
        "\n",
        "> The distribution shows that a lot of blue cars are returned are from the range of one to four in a day\n",
        "\n"
      ]
    },
    {
      "cell_type": "markdown",
      "metadata": {
        "id": "ancW1ZgOl1Br",
        "colab_type": "text"
      },
      "source": [
        "\n",
        "\n",
        "We are going next for the postal codes since they rise some interest in our hypothesis\n",
        "\n"
      ]
    },
    {
      "cell_type": "code",
      "metadata": {
        "id": "Y4ajvAamlzPw",
        "colab_type": "code",
        "colab": {
          "base_uri": "https://localhost:8080/",
          "height": 295
        },
        "outputId": "e180b747-47fc-48ed-862f-63c7dd79c807"
      },
      "source": [
        "sample1.postal_code.value_counts().plot.hist()\n",
        "plt.xlabel('number of postal codes')\n",
        "plt.ylabel('Frequency')\n",
        "plt.title('Postal Codes')\n",
        "plt.show()"
      ],
      "execution_count": 85,
      "outputs": [
        {
          "output_type": "display_data",
          "data": {
            "image/png": "[encoded data removed]",
            "text/plain": [
              "<Figure size 432x288 with 1 Axes>"
            ]
          },
          "metadata": {
            "tags": []
          }
        }
      ]
    },
    {
      "cell_type": "markdown",
      "metadata": {
        "id": "1sXUYvDxnBn0",
        "colab_type": "text"
      },
      "source": [
        "\n",
        "\n",
        "> the distribution shows that there are very many postal codes between 9 and 19\n",
        "\n"
      ]
    },
    {
      "cell_type": "code",
      "metadata": {
        "id": "EYL6fsGjlHGN",
        "colab_type": "code",
        "colab": {
          "base_uri": "https://localhost:8080/",
          "height": 295
        },
        "outputId": "dacb6b67-b322-4893-f6f6-caf9858557bd"
      },
      "source": [
        "sample1.date.value_counts().plot.hist()\n",
        "plt.ylabel('Frequency')\n",
        "plt.xlabel('unique number of days')\n",
        "plt.title('DAYS')\n",
        "plt.show()"
      ],
      "execution_count": 95,
      "outputs": [
        {
          "output_type": "display_data",
          "data": {
            "image/png": "[encoded data removed]",
            "text/plain": [
              "<Figure size 432x288 with 1 Axes>"
            ]
          },
          "metadata": {
            "tags": []
          }
        }
      ]
    },
    {
      "cell_type": "markdown",
      "metadata": {
        "id": "eAa0C9_Zr4nn",
        "colab_type": "text"
      },
      "source": [
        "\n",
        "\n",
        "> there are mostly 7 to 13 days that vehicles are normally taken or returned, according to the distribution\n",
        "\n"
      ]
    },
    {
      "cell_type": "markdown",
      "metadata": {
        "id": "fLYWEhkqsSRB",
        "colab_type": "text"
      },
      "source": [
        "Daily points given in a day can also show give a good insight about the data"
      ]
    },
    {
      "cell_type": "code",
      "metadata": {
        "id": "FfSKIccMqm1h",
        "colab_type": "code",
        "colab": {
          "base_uri": "https://localhost:8080/",
          "height": 311
        },
        "outputId": "a48d8a5b-0b99-4f83-b70f-eead18857945"
      },
      "source": [
        "sample1.n_daily_data_points.value_counts().plot.bar()\n",
        "plt.xlabel(\"Data points given daily\")\n",
        "plt.ylabel(\"Frequency\")\n",
        "plt.title('Data Points')\n",
        "plt.show()"
      ],
      "execution_count": 105,
      "outputs": [
        {
          "output_type": "display_data",
          "data": {
            "image/png": "[encoded data removed]",
            "text/plain": [
              "<Figure size 432x288 with 1 Axes>"
            ]
          },
          "metadata": {
            "tags": []
          }
        }
      ]
    },
    {
      "cell_type": "markdown",
      "metadata": {
        "id": "M42Q72FDtolr",
        "colab_type": "text"
      },
      "source": [
        "\n",
        "\n",
        "> 1440 is the most given data point on a daily basis\n",
        "\n"
      ]
    },
    {
      "cell_type": "code",
      "metadata": {
        "id": "w21_hUihfgZ2",
        "colab_type": "code",
        "outputId": "cdad5427-5cc8-431a-a944-da35ae73b161",
        "colab": {
          "base_uri": "https://localhost:8080/",
          "height": 122
        }
      },
      "source": [
        "sample1.columns"
      ],
      "execution_count": 69,
      "outputs": [
        {
          "output_type": "execute_result",
          "data": {
            "text/plain": [
              "Index(['postal_code', 'date', 'n_daily_data_points', 'dayofweek', 'day_type',\n",
              "       'bluecars_taken_sum', 'bluecars_returned_sum', 'utilib_taken_sum',\n",
              "       'utilib_returned_sum', 'utilib_14_taken_sum', 'utilib_14_returned_sum',\n",
              "       'slots_freed_sum', 'slots_taken_sum'],\n",
              "      dtype='object')"
            ]
          },
          "metadata": {
            "tags": []
          },
          "execution_count": 69
        }
      ]
    },
    {
      "cell_type": "markdown",
      "metadata": {
        "id": "Wf3_Mbjvt9F-",
        "colab_type": "text"
      },
      "source": [
        "utilib taken also rises some interest"
      ]
    },
    {
      "cell_type": "code",
      "metadata": {
        "id": "AYTTK-R4t2Gu",
        "colab_type": "code",
        "colab": {
          "base_uri": "https://localhost:8080/",
          "height": 298
        },
        "outputId": "9c9e8308-dbb7-472d-c91a-b3d548935d0d"
      },
      "source": [
        "sample1.utilib_taken_sum.value_counts().plot.bar()\n",
        "plt.xlabel('Number of utilibs taken per day')\n",
        "plt.ylabel('Frequency')\n",
        "plt.title('Utilibs Taken')\n",
        "plt.show()"
      ],
      "execution_count": 114,
      "outputs": [
        {
          "output_type": "display_data",
          "data": {
            "image/png": "[encoded data removed]",
            "text/plain": [
              "<Figure size 432x288 with 1 Axes>"
            ]
          },
          "metadata": {
            "tags": []
          }
        }
      ]
    },
    {
      "cell_type": "markdown",
      "metadata": {
        "id": "WDGrPqhmvqf1",
        "colab_type": "text"
      },
      "source": [
        "\n",
        "\n",
        "> utilibs are not taken in most cases\n",
        "\n"
      ]
    },
    {
      "cell_type": "code",
      "metadata": {
        "id": "p2GAnDGPrV7r",
        "colab_type": "code",
        "colab": {
          "base_uri": "https://localhost:8080/",
          "height": 221
        },
        "outputId": "42928de1-ddf5-479d-9621-8da9721871ff"
      },
      "source": [
        ""
      ],
      "execution_count": 92,
      "outputs": [
        {
          "output_type": "execute_result",
          "data": {
            "text/plain": [
              "1/27/2018    104\n",
              "2/4/2018     104\n",
              "5/27/2018    104\n",
              "5/6/2018     104\n",
              "1/29/2018    104\n",
              "            ... \n",
              "3/29/2018    102\n",
              "3/13/2018    102\n",
              "3/14/2018    101\n",
              "2/24/2018     98\n",
              "6/19/2018     94\n",
              "Name: date, Length: 156, dtype: int64"
            ]
          },
          "metadata": {
            "tags": []
          },
          "execution_count": 92
        }
      ]
    },
    {
      "cell_type": "code",
      "metadata": {
        "id": "AiPmIs_vriFL",
        "colab_type": "code",
        "colab": {}
      },
      "source": [
        ""
      ],
      "execution_count": 0,
      "outputs": []
    }
  ]
}